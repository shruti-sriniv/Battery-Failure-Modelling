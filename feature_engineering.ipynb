{
  "nbformat": 4,
  "nbformat_minor": 0,
  "metadata": {
    "colab": {
      "provenance": [],
      "authorship_tag": "ABX9TyNFIsvwRcHpWGQtHGwDHUTW",
      "include_colab_link": true
    },
    "kernelspec": {
      "name": "python3",
      "display_name": "Python 3"
    },
    "language_info": {
      "name": "python"
    }
  },
  "cells": [
    {
      "cell_type": "markdown",
      "metadata": {
        "id": "view-in-github",
        "colab_type": "text"
      },
      "source": [
        "<a href=\"https://colab.research.google.com/github/shruti-sriniv/Battery-Failure-Modelling/blob/main/feature_engineering.ipynb\" target=\"_parent\"><img src=\"https://colab.research.google.com/assets/colab-badge.svg\" alt=\"Open In Colab\"/></a>"
      ]
    },
    {
      "cell_type": "code",
      "execution_count": null,
      "metadata": {
        "id": "8fwjUho0g28T"
      },
      "outputs": [],
      "source": [
        "import pandas as pd\n",
        "import numpy as np\n",
        "from datetime import timedelta\n",
        "from sklearn.model_selection import train_test_split\n",
        "from sklearn.preprocessing import StandardScaler\n",
        "from sklearn.metrics import accuracy_score, precision_score, recall_score, f1_score, roc_auc_score, confusion_matrix, classification_report\n",
        "import xgboost as xgb\n",
        "import matplotlib.pyplot as plt\n",
        "import seaborn as sns"
      ]
    },
    {
      "cell_type": "code",
      "source": [
        "# Load in the data\n",
        "df = pd.read_csv('device_data.csv')\n",
        "print(df.info())"
      ],
      "metadata": {
        "colab": {
          "base_uri": "https://localhost:8080/"
        },
        "id": "CLfotjyfhQjc",
        "outputId": "47c17c9b-5db7-4576-e980-d9aa614bc2a6"
      },
      "execution_count": null,
      "outputs": [
        {
          "output_type": "stream",
          "name": "stdout",
          "text": [
            "<class 'pandas.core.frame.DataFrame'>\n",
            "RangeIndex: 100000 entries, 0 to 99999\n",
            "Data columns (total 17 columns):\n",
            " #   Column           Non-Null Count   Dtype  \n",
            "---  ------           --------------   -----  \n",
            " 0   tape_id          100000 non-null  object \n",
            " 1   ts               100000 non-null  int64  \n",
            " 2   e0               13516 non-null   float64\n",
            " 3   l0               13516 non-null   float64\n",
            " 4   t0               100000 non-null  float64\n",
            " 5   rssi0            100000 non-null  int64  \n",
            " 6   clat             100000 non-null  float64\n",
            " 7   clon             100000 non-null  float64\n",
            " 8   timeoutperiod    100000 non-null  int64  \n",
            " 9   nlps             100000 non-null  int64  \n",
            " 10  facility         99067 non-null   object \n",
            " 11  activation_date  99775 non-null   object \n",
            " 12  bat              100000 non-null  float64\n",
            " 13  hw_version       84979 non-null   object \n",
            " 14  fw_version       84979 non-null   object \n",
            " 15  otaflag          100000 non-null  bool   \n",
            " 16  application_id   99986 non-null   object \n",
            "dtypes: bool(1), float64(6), int64(4), object(6)\n",
            "memory usage: 12.3+ MB\n",
            "None\n"
          ]
        }
      ]
    },
    {
      "cell_type": "code",
      "source": [
        "# Converting ts (numeric) and activation_date (string) to datetime\n",
        "df['ts_utc'] = pd.to_datetime(df['ts'], unit='s', utc=True)\n",
        "df['activation_date'] = pd.to_datetime(df['activation_date'])"
      ],
      "metadata": {
        "id": "6hXtc9I2o8m-"
      },
      "execution_count": null,
      "outputs": []
    },
    {
      "cell_type": "code",
      "source": [
        "# Calculate the end of the early life window for each record's device\n",
        "df['early_life_window_end'] = df['activation_date'] + timedelta(weeks=2)"
      ],
      "metadata": {
        "id": "4kuPLdvQlw3p"
      },
      "execution_count": null,
      "outputs": []
    },
    {
      "cell_type": "code",
      "source": [
        "print(df.head(100))"
      ],
      "metadata": {
        "colab": {
          "base_uri": "https://localhost:8080/"
        },
        "id": "IoOcaHGxpYOm",
        "outputId": "6358396f-9369-4c72-9a3d-9b87d59e6c25"
      },
      "execution_count": null,
      "outputs": [
        {
          "output_type": "stream",
          "name": "stdout",
          "text": [
            "         tape_id          ts   e0     l0       t0  rssi0       clat  \\\n",
            "0   CBBC86FB37E4  1750292082  0.0 -255.0    23.73   -100   0.000000   \n",
            "1   E76D64301481  1750292165  NaN    NaN  9999.00    -87  40.706474   \n",
            "2   E76D64301481  1750292165  NaN    NaN  9999.00    -87  40.706474   \n",
            "3   E563E46C4F0D  1750292167  NaN    NaN  9999.00    -81  40.706474   \n",
            "4   E563E46C4F0D  1750292167  NaN    NaN  9999.00    -81  40.706474   \n",
            "..           ...         ...  ...    ...      ...    ...        ...   \n",
            "95  E76D64301481  1750292411  NaN    NaN  9999.00    -85  40.706474   \n",
            "96  E76D64301481  1750292411  NaN    NaN  9999.00    -85  40.706474   \n",
            "97  C86BA1BBD7A3  1750292413  NaN    NaN  9999.00    -87  40.706474   \n",
            "98  CD37CDC4684E  1750292414  NaN    NaN  9999.00    -86  40.706474   \n",
            "99  E4DCEBAC5ED9  1750292414  NaN    NaN  9999.00    -85  40.706474   \n",
            "\n",
            "         clon  timeoutperiod  nlps                              facility  \\\n",
            "0    0.000000           1800     1  6735A55C-B4C2-4193-A2C2-2AC18C23ED36   \n",
            "1  -74.010361           3600    12  0F028EE2-3BF1-45CF-85ED-297A337F4991   \n",
            "2  -74.010361           3600    12  0F028EE2-3BF1-45CF-85ED-297A337F4991   \n",
            "3  -74.010361           3600    12  0F028EE2-3BF1-45CF-85ED-297A337F4991   \n",
            "4  -74.010361           3600    12  0F028EE2-3BF1-45CF-85ED-297A337F4991   \n",
            "..        ...            ...   ...                                   ...   \n",
            "95 -74.010361           3600    12  0F028EE2-3BF1-45CF-85ED-297A337F4991   \n",
            "96 -74.010361           3600    12  0F028EE2-3BF1-45CF-85ED-297A337F4991   \n",
            "97 -74.010361           3600    12  0F028EE2-3BF1-45CF-85ED-297A337F4991   \n",
            "98 -74.010361           3600    12  0F028EE2-3BF1-45CF-85ED-297A337F4991   \n",
            "99 -74.010361           3600    24  0F028EE2-3BF1-45CF-85ED-297A337F4991   \n",
            "\n",
            "       activation_date    bat   hw_version  fw_version  otaflag  \\\n",
            "0  2025-06-04 17:59:15  3.011  ONYX0208071  GBT01010B0     True   \n",
            "1  2025-07-08 15:00:45  3.000  TITN0101041  DLT0100031    False   \n",
            "2  2025-07-08 15:00:45  3.000  TITN0101041  DLT0100031    False   \n",
            "3  2025-07-08 15:02:40  3.000          NaN         NaN    False   \n",
            "4  2025-07-08 15:02:40  3.000          NaN         NaN    False   \n",
            "..                 ...    ...          ...         ...      ...   \n",
            "95 2025-07-08 15:00:45  3.000  TITN0101041  DLT0100031    False   \n",
            "96 2025-07-08 15:00:45  3.000  TITN0101041  DLT0100031    False   \n",
            "97 2025-07-08 14:30:54  3.000          NaN         NaN    False   \n",
            "98 2025-01-23 17:48:18  3.500  ONYX0208071  GBT01000A0    False   \n",
            "99 2024-10-21 12:52:47  3.500  ONYX0208071  GBT01000A1    False   \n",
            "\n",
            "           application_id                    ts_utc early_life_window_end  \n",
            "0   premium-high-priority 2025-06-19 00:14:42+00:00   2025-06-18 17:59:15  \n",
            "1           uld-container 2025-06-19 00:16:05+00:00   2025-07-22 15:00:45  \n",
            "2           uld-container 2025-06-19 00:16:05+00:00   2025-07-22 15:00:45  \n",
            "3           uld-container 2025-06-19 00:16:07+00:00   2025-07-22 15:02:40  \n",
            "4           uld-container 2025-06-19 00:16:07+00:00   2025-07-22 15:02:40  \n",
            "..                    ...                       ...                   ...  \n",
            "95          uld-container 2025-06-19 00:20:11+00:00   2025-07-22 15:00:45  \n",
            "96          uld-container 2025-06-19 00:20:11+00:00   2025-07-22 15:00:45  \n",
            "97          uld-container 2025-06-19 00:20:13+00:00   2025-07-22 14:30:54  \n",
            "98          uld-container 2025-06-19 00:20:14+00:00   2025-02-06 17:48:18  \n",
            "99          uld-container 2025-06-19 00:20:14+00:00   2024-11-04 12:52:47  \n",
            "\n",
            "[100 rows x 19 columns]\n"
          ]
        }
      ]
    },
    {
      "cell_type": "code",
      "source": [
        "# Some of the ts values are negative or are in the 1970s. These values need to be dropped from the dataframe as the devices were only activated after 2023\n",
        "df = df[df['ts_utc'] >= '2023-01-01']\n",
        "print(df.head())"
      ],
      "metadata": {
        "colab": {
          "base_uri": "https://localhost:8080/"
        },
        "id": "uyDLBtqOhQmB",
        "outputId": "f6b97ce6-7497-4959-bc3d-30e489c47d29"
      },
      "execution_count": null,
      "outputs": [
        {
          "output_type": "stream",
          "name": "stdout",
          "text": [
            "        tape_id          ts   e0     l0       t0  rssi0       clat       clon  \\\n",
            "0  CBBC86FB37E4  1750292082  0.0 -255.0    23.73   -100   0.000000   0.000000   \n",
            "1  E76D64301481  1750292165  NaN    NaN  9999.00    -87  40.706474 -74.010361   \n",
            "2  E76D64301481  1750292165  NaN    NaN  9999.00    -87  40.706474 -74.010361   \n",
            "3  E563E46C4F0D  1750292167  NaN    NaN  9999.00    -81  40.706474 -74.010361   \n",
            "4  E563E46C4F0D  1750292167  NaN    NaN  9999.00    -81  40.706474 -74.010361   \n",
            "\n",
            "   timeoutperiod  nlps                              facility  \\\n",
            "0           1800     1  6735A55C-B4C2-4193-A2C2-2AC18C23ED36   \n",
            "1           3600    12  0F028EE2-3BF1-45CF-85ED-297A337F4991   \n",
            "2           3600    12  0F028EE2-3BF1-45CF-85ED-297A337F4991   \n",
            "3           3600    12  0F028EE2-3BF1-45CF-85ED-297A337F4991   \n",
            "4           3600    12  0F028EE2-3BF1-45CF-85ED-297A337F4991   \n",
            "\n",
            "      activation_date    bat   hw_version  fw_version  otaflag  \\\n",
            "0 2025-06-04 17:59:15  3.011  ONYX0208071  GBT01010B0     True   \n",
            "1 2025-07-08 15:00:45  3.000  TITN0101041  DLT0100031    False   \n",
            "2 2025-07-08 15:00:45  3.000  TITN0101041  DLT0100031    False   \n",
            "3 2025-07-08 15:02:40  3.000          NaN         NaN    False   \n",
            "4 2025-07-08 15:02:40  3.000          NaN         NaN    False   \n",
            "\n",
            "          application_id                    ts_utc early_life_window_end  \n",
            "0  premium-high-priority 2025-06-19 00:14:42+00:00   2025-06-18 17:59:15  \n",
            "1          uld-container 2025-06-19 00:16:05+00:00   2025-07-22 15:00:45  \n",
            "2          uld-container 2025-06-19 00:16:05+00:00   2025-07-22 15:00:45  \n",
            "3          uld-container 2025-06-19 00:16:07+00:00   2025-07-22 15:02:40  \n",
            "4          uld-container 2025-06-19 00:16:07+00:00   2025-07-22 15:02:40  \n"
          ]
        }
      ]
    },
    {
      "cell_type": "code",
      "source": [
        "# Create a dataframe with the most recent timestamp and battery, as well as the aggregate of the other features\n"
      ],
      "metadata": {
        "id": "dF4h3DEahQoy"
      },
      "execution_count": null,
      "outputs": []
    },
    {
      "cell_type": "code",
      "source": [],
      "metadata": {
        "id": "dodLBAB0hQrv"
      },
      "execution_count": null,
      "outputs": []
    },
    {
      "cell_type": "code",
      "source": [],
      "metadata": {
        "id": "4FB0TBTehQui"
      },
      "execution_count": null,
      "outputs": []
    },
    {
      "cell_type": "code",
      "source": [],
      "metadata": {
        "id": "IxzmMkn5hQxg"
      },
      "execution_count": null,
      "outputs": []
    },
    {
      "cell_type": "code",
      "source": [],
      "metadata": {
        "id": "hvyJHZrAhQ0X"
      },
      "execution_count": null,
      "outputs": []
    }
  ]
}