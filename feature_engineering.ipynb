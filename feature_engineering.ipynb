{
  "nbformat": 4,
  "nbformat_minor": 0,
  "metadata": {
    "colab": {
      "provenance": [],
      "authorship_tag": "ABX9TyOXwdHV4+gXXA927RbKCTlb",
      "include_colab_link": true
    },
    "kernelspec": {
      "name": "python3",
      "display_name": "Python 3"
    },
    "language_info": {
      "name": "python"
    }
  },
  "cells": [
    {
      "cell_type": "markdown",
      "metadata": {
        "id": "view-in-github",
        "colab_type": "text"
      },
      "source": [
        "<a href=\"https://colab.research.google.com/github/shruti-sriniv/Battery-Failure-Modelling/blob/main/feature_engineering.ipynb\" target=\"_parent\"><img src=\"https://colab.research.google.com/assets/colab-badge.svg\" alt=\"Open In Colab\"/></a>"
      ]
    },
    {
      "cell_type": "code",
      "execution_count": 48,
      "metadata": {
        "id": "8fwjUho0g28T"
      },
      "outputs": [],
      "source": [
        "import pandas as pd\n",
        "import numpy as np\n",
        "from sklearn.model_selection import train_test_split\n",
        "from sklearn.preprocessing import MinMaxScaler\n",
        "from tensorflow.keras.models import Sequential\n",
        "from tensorflow.keras.layers import LSTM, Dense, Dropout\n",
        "from tensorflow.keras.callbacks import EarlyStopping\n",
        "from sklearn.metrics import classification_report, confusion_matrix\n",
        "import matplotlib.pyplot as plt\n",
        "import seaborn as sns"
      ]
    },
    {
      "cell_type": "code",
      "source": [
        "# Load in the data\n",
        "df = pd.read_csv('device_data.csv')\n",
        "print(df.info())"
      ],
      "metadata": {
        "colab": {
          "base_uri": "https://localhost:8080/"
        },
        "id": "CLfotjyfhQjc",
        "outputId": "659131ee-6180-432f-8a69-7ed3a26542c3"
      },
      "execution_count": 49,
      "outputs": [
        {
          "output_type": "stream",
          "name": "stdout",
          "text": [
            "<class 'pandas.core.frame.DataFrame'>\n",
            "RangeIndex: 100000 entries, 0 to 99999\n",
            "Data columns (total 17 columns):\n",
            " #   Column           Non-Null Count   Dtype  \n",
            "---  ------           --------------   -----  \n",
            " 0   tape_id          100000 non-null  object \n",
            " 1   ts               100000 non-null  int64  \n",
            " 2   e0               13516 non-null   float64\n",
            " 3   l0               13516 non-null   float64\n",
            " 4   t0               100000 non-null  float64\n",
            " 5   rssi0            100000 non-null  int64  \n",
            " 6   clat             100000 non-null  float64\n",
            " 7   clon             100000 non-null  float64\n",
            " 8   timeoutperiod    100000 non-null  int64  \n",
            " 9   nlps             100000 non-null  int64  \n",
            " 10  facility         99067 non-null   object \n",
            " 11  activation_date  99775 non-null   object \n",
            " 12  bat              100000 non-null  float64\n",
            " 13  hw_version       84979 non-null   object \n",
            " 14  fw_version       84979 non-null   object \n",
            " 15  otaflag          100000 non-null  bool   \n",
            " 16  application_id   99986 non-null   object \n",
            "dtypes: bool(1), float64(6), int64(4), object(6)\n",
            "memory usage: 12.3+ MB\n",
            "None\n"
          ]
        }
      ]
    },
    {
      "cell_type": "code",
      "source": [
        "# Converting ts (numeric) and activation_date (string) to datetime\n",
        "df['timestamp_utc'] = pd.to_datetime(df['ts'], unit='s', utc=True)\n",
        "df['activation_date'] = pd.to_datetime(df['activation_date']).dt.tz_localize(None)\n",
        "df['timestamp_utc'] = pd.to_datetime(df['timestamp_utc']).dt.tz_localize(None)"
      ],
      "metadata": {
        "id": "6hXtc9I2o8m-"
      },
      "execution_count": 50,
      "outputs": []
    },
    {
      "cell_type": "markdown",
      "source": [],
      "metadata": {
        "id": "1D2yT6jCVrqg"
      }
    },
    {
      "cell_type": "code",
      "source": [
        "# Some of the ts values are negative or are in the 1970s. These values need to be dropped from the dataframe as the devices were only activated after 2023\n",
        "df = df[df['timestamp_utc'] >= '2023-01-01']\n",
        "print(df.head())"
      ],
      "metadata": {
        "colab": {
          "base_uri": "https://localhost:8080/"
        },
        "id": "uyDLBtqOhQmB",
        "outputId": "e9dcec97-90f6-4286-bc39-58278fc3fb4f"
      },
      "execution_count": 51,
      "outputs": [
        {
          "output_type": "stream",
          "name": "stdout",
          "text": [
            "        tape_id          ts   e0     l0       t0  rssi0       clat       clon  \\\n",
            "0  CBBC86FB37E4  1750292082  0.0 -255.0    23.73   -100   0.000000   0.000000   \n",
            "1  E76D64301481  1750292165  NaN    NaN  9999.00    -87  40.706474 -74.010361   \n",
            "2  E76D64301481  1750292165  NaN    NaN  9999.00    -87  40.706474 -74.010361   \n",
            "3  E563E46C4F0D  1750292167  NaN    NaN  9999.00    -81  40.706474 -74.010361   \n",
            "4  E563E46C4F0D  1750292167  NaN    NaN  9999.00    -81  40.706474 -74.010361   \n",
            "\n",
            "   timeoutperiod  nlps                              facility  \\\n",
            "0           1800     1  6735A55C-B4C2-4193-A2C2-2AC18C23ED36   \n",
            "1           3600    12  0F028EE2-3BF1-45CF-85ED-297A337F4991   \n",
            "2           3600    12  0F028EE2-3BF1-45CF-85ED-297A337F4991   \n",
            "3           3600    12  0F028EE2-3BF1-45CF-85ED-297A337F4991   \n",
            "4           3600    12  0F028EE2-3BF1-45CF-85ED-297A337F4991   \n",
            "\n",
            "      activation_date    bat   hw_version  fw_version  otaflag  \\\n",
            "0 2025-06-04 17:59:15  3.011  ONYX0208071  GBT01010B0     True   \n",
            "1 2025-07-08 15:00:45  3.000  TITN0101041  DLT0100031    False   \n",
            "2 2025-07-08 15:00:45  3.000  TITN0101041  DLT0100031    False   \n",
            "3 2025-07-08 15:02:40  3.000          NaN         NaN    False   \n",
            "4 2025-07-08 15:02:40  3.000          NaN         NaN    False   \n",
            "\n",
            "          application_id       timestamp_utc  \n",
            "0  premium-high-priority 2025-06-19 00:14:42  \n",
            "1          uld-container 2025-06-19 00:16:05  \n",
            "2          uld-container 2025-06-19 00:16:05  \n",
            "3          uld-container 2025-06-19 00:16:07  \n",
            "4          uld-container 2025-06-19 00:16:07  \n"
          ]
        }
      ]
    },
    {
      "cell_type": "code",
      "source": [
        "# Sort the data by tape_id and then by ts_utc\n",
        "df = df.sort_values(by=['tape_id', 'timestamp_utc'])"
      ],
      "metadata": {
        "id": "dF4h3DEahQoy"
      },
      "execution_count": 52,
      "outputs": []
    },
    {
      "cell_type": "code",
      "source": [
        "# Define early life battery failure\n",
        "# Calculate the time difference from activation for each measurement\n",
        "df['time_since_activation_days'] = (df['timestamp_utc'] - df['activation_date']).dt.total_seconds() / (24 * 3600)\n",
        "\n",
        "# Identify potential failure points (voltage < 2.6)\n",
        "df['is_low_voltage'] = (df['bat'] < 2.6).astype(int)"
      ],
      "metadata": {
        "id": "dodLBAB0hQrv"
      },
      "execution_count": 53,
      "outputs": []
    },
    {
      "cell_type": "code",
      "source": [
        "# Group by tape_id and check for early life failure\n",
        "early_failure_status = df.groupby('tape_id').apply(\n",
        "    lambda x: ((x['is_low_voltage'] == 1) & (x['time_since_activation_days'] <= 14)).any()\n",
        ").astype(int)"
      ],
      "metadata": {
        "id": "4FB0TBTehQui",
        "colab": {
          "base_uri": "https://localhost:8080/"
        },
        "outputId": "ab9eee40-6f52-4205-e059-7f44b3c34417"
      },
      "execution_count": 54,
      "outputs": [
        {
          "output_type": "stream",
          "name": "stderr",
          "text": [
            "/tmp/ipython-input-54-4030392989.py:2: DeprecationWarning: DataFrameGroupBy.apply operated on the grouping columns. This behavior is deprecated, and in a future version of pandas the grouping columns will be excluded from the operation. Either pass `include_groups=False` to exclude the groupings or explicitly select the grouping columns after groupby to silence this warning.\n",
            "  early_failure_status = df.groupby('tape_id').apply(\n"
          ]
        }
      ]
    },
    {
      "cell_type": "code",
      "source": [
        "# Correct the dataframe by adding in the new column and removing the interim ones\n",
        "# .map() is ideal here as it aligns values based on the 'tape_id' column\n",
        "df['early_life_failure'] = df['tape_id'].map(early_failure_status)\n",
        "\n",
        "# You can drop the intermediate columns if not needed\n",
        "df = df.drop(columns=['time_since_activation_days', 'is_low_voltage'])"
      ],
      "metadata": {
        "id": "IxzmMkn5hQxg"
      },
      "execution_count": 55,
      "outputs": []
    },
    {
      "cell_type": "markdown",
      "source": [
        "Prepping the data for the LSTM Model"
      ],
      "metadata": {
        "id": "fuPG58BVXphU"
      }
    },
    {
      "cell_type": "code",
      "source": [],
      "metadata": {
        "id": "wZxDtbh8Xn-z"
      },
      "execution_count": null,
      "outputs": []
    },
    {
      "cell_type": "code",
      "source": [],
      "metadata": {
        "id": "7EoblHn7XoCK"
      },
      "execution_count": null,
      "outputs": []
    },
    {
      "cell_type": "code",
      "source": [],
      "metadata": {
        "id": "EqlbbfAnXoFp"
      },
      "execution_count": null,
      "outputs": []
    }
  ]
}